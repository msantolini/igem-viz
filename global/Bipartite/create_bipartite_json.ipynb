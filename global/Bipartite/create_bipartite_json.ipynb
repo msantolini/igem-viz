{
 "cells": [
  {
   "cell_type": "code",
   "execution_count": 1,
   "metadata": {},
   "outputs": [],
   "source": [
    "from networkx.algorithms import bipartite \n",
    "import matplotlib.pyplot as plt \n",
    "import networkx as nx \n",
    "import numpy as np\n",
    "import pandas as pd \n",
    "\n",
    "%matplotlib inline "
   ]
  },
  {
   "cell_type": "code",
   "execution_count": 2,
   "metadata": {},
   "outputs": [],
   "source": [
    "DF = pd.read_csv('logs_data.csv',header=0,sep=',')"
   ]
  },
  {
   "cell_type": "code",
   "execution_count": 3,
   "metadata": {},
   "outputs": [],
   "source": [
    "DF['date_task'] =  pd.to_datetime(DF['date_task'], infer_datetime_format=True)"
   ]
  },
  {
   "cell_type": "code",
   "execution_count": 4,
   "metadata": {},
   "outputs": [],
   "source": [
    "G = nx.Graph()"
   ]
  },
  {
   "cell_type": "code",
   "execution_count": 5,
   "metadata": {},
   "outputs": [
    {
     "data": {
      "text/html": [
       "<div>\n",
       "<style scoped>\n",
       "    .dataframe tbody tr th:only-of-type {\n",
       "        vertical-align: middle;\n",
       "    }\n",
       "\n",
       "    .dataframe tbody tr th {\n",
       "        vertical-align: top;\n",
       "    }\n",
       "\n",
       "    .dataframe thead th {\n",
       "        text-align: right;\n",
       "    }\n",
       "</style>\n",
       "<table border=\"1\" class=\"dataframe\">\n",
       "  <thead>\n",
       "    <tr style=\"text-align: right;\">\n",
       "      <th></th>\n",
       "      <th>task_name</th>\n",
       "      <th>username</th>\n",
       "      <th>team_name</th>\n",
       "      <th>task_with</th>\n",
       "      <th>date_task</th>\n",
       "    </tr>\n",
       "  </thead>\n",
       "  <tbody>\n",
       "    <tr>\n",
       "      <th>0</th>\n",
       "      <td>Brainstorming</td>\n",
       "      <td>2389</td>\n",
       "      <td>Alma</td>\n",
       "      <td>NaN</td>\n",
       "      <td>2020-08-12</td>\n",
       "    </tr>\n",
       "    <tr>\n",
       "      <th>1</th>\n",
       "      <td>Project administration</td>\n",
       "      <td>2389</td>\n",
       "      <td>Alma</td>\n",
       "      <td>NaN</td>\n",
       "      <td>2020-08-12</td>\n",
       "    </tr>\n",
       "    <tr>\n",
       "      <th>2</th>\n",
       "      <td>Team meetings</td>\n",
       "      <td>2389</td>\n",
       "      <td>Alma</td>\n",
       "      <td>2389</td>\n",
       "      <td>2020-08-09</td>\n",
       "    </tr>\n",
       "    <tr>\n",
       "      <th>3</th>\n",
       "      <td>Team meetings</td>\n",
       "      <td>2389</td>\n",
       "      <td>Alma</td>\n",
       "      <td>2389</td>\n",
       "      <td>2020-08-10</td>\n",
       "    </tr>\n",
       "    <tr>\n",
       "      <th>4</th>\n",
       "      <td>Writing / preparing presentations</td>\n",
       "      <td>2389</td>\n",
       "      <td>Alma</td>\n",
       "      <td>2389</td>\n",
       "      <td>2020-08-10</td>\n",
       "    </tr>\n",
       "  </tbody>\n",
       "</table>\n",
       "</div>"
      ],
      "text/plain": [
       "                           task_name  username team_name task_with  date_task\n",
       "0                      Brainstorming      2389      Alma       NaN 2020-08-12\n",
       "1             Project administration      2389      Alma       NaN 2020-08-12\n",
       "2                      Team meetings      2389      Alma      2389 2020-08-09\n",
       "3                      Team meetings      2389      Alma      2389 2020-08-10\n",
       "4  Writing / preparing presentations      2389      Alma      2389 2020-08-10"
      ]
     },
     "execution_count": 5,
     "metadata": {},
     "output_type": "execute_result"
    }
   ],
   "source": [
    "DF.head()"
   ]
  },
  {
   "cell_type": "code",
   "execution_count": 6,
   "metadata": {},
   "outputs": [],
   "source": [
    "from collections import defaultdict\n",
    "edges = defaultdict(int)\n",
    "\n",
    "for i,j in zip(DF['task_name'].values,DF['username'].values):\n",
    "    edges[(i,str(j))]+=1\n",
    "    \n",
    "G.add_edges_from(edges.keys())"
   ]
  },
  {
   "cell_type": "code",
   "execution_count": 7,
   "metadata": {},
   "outputs": [
    {
     "data": {
      "text/plain": [
       "26"
      ]
     },
     "execution_count": 7,
     "metadata": {},
     "output_type": "execute_result"
    }
   ],
   "source": [
    "G.degree('Team meetings')"
   ]
  },
  {
   "cell_type": "code",
   "execution_count": 8,
   "metadata": {},
   "outputs": [],
   "source": [
    "bipartite_data = {}"
   ]
  },
  {
   "cell_type": "code",
   "execution_count": 13,
   "metadata": {},
   "outputs": [],
   "source": [
    "bipartite_data = {'directed':False, \"multigraph\":False, \"graph\":{}, \"nodes\":[],\"links\":[]}\n",
    "\n",
    "for i in set(DF['task_name'].values):\n",
    "        \n",
    "    bipartite_data['nodes'].append({\"group\":1,\"id\":i,\"degree\":G.degree(i),\"type\":'circle'})\n",
    "\n",
    "for i in set(DF['username'].values):\n",
    "        \n",
    "    bipartite_data['nodes'].append({\"group\":2,\"id\":str(i),\"degree\":G.degree(str(i)),\"type\":'square'})\n",
    "    \n",
    "for e in edges:\n",
    "    bipartite_data['links'].append({\"source\":e[0],\"target\":e[1],\"value\":edges[e]})\n"
   ]
  },
  {
   "cell_type": "code",
   "execution_count": 14,
   "metadata": {},
   "outputs": [],
   "source": [
    "import json \n",
    "\n",
    "with open('task_bipartite_weighted.json', 'w') as f:\n",
    "    json.dump(bipartite_data,f,indent=1)"
   ]
  },
  {
   "cell_type": "code",
   "execution_count": null,
   "metadata": {},
   "outputs": [],
   "source": []
  }
 ],
 "metadata": {
  "kernelspec": {
   "display_name": "Python 3",
   "language": "python",
   "name": "python3"
  },
  "language_info": {
   "codemirror_mode": {
    "name": "ipython",
    "version": 3
   },
   "file_extension": ".py",
   "mimetype": "text/x-python",
   "name": "python",
   "nbconvert_exporter": "python",
   "pygments_lexer": "ipython3",
   "version": "3.7.7"
  }
 },
 "nbformat": 4,
 "nbformat_minor": 4
}